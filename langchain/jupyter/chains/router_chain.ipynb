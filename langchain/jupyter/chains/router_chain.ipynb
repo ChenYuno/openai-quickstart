{
 "cells": [
  {
   "cell_type": "markdown",
   "id": "c3e2458f-d038-4845-93a0-d4ad830f9f90",
   "metadata": {},
   "source": [
    "# LangChain 核心模块学习：Chains\n",
    "\n",
    "对于简单的大模型应用，单独使用语言模型（LLMs）是可以的。\n",
    "\n",
    "**但更复杂的大模型应用需要将 `LLMs` 和 `Chat Models` 链接在一起 - 要么彼此链接，要么与其他组件链接。**\n",
    "\n",
    "LangChain 为这种“链式”应用程序提供了 `Chain` 接口。\n",
    "\n",
    "LangChain 以通用方式定义了 `Chain`，它是对组件进行调用序列的集合，其中可以包含其他链。"
   ]
  },
  {
   "cell_type": "code",
   "id": "24efe291-8745-4e78-bdb4-648e60d7bac8",
   "metadata": {
    "ExecuteTime": {
     "end_time": "2024-07-17T01:43:52.330136Z",
     "start_time": "2024-07-17T01:43:46.866899Z"
    }
   },
   "source": [
    "! pip install -U langchain"
   ],
   "outputs": [
    {
     "name": "stdout",
     "output_type": "stream",
     "text": [
      "Looking in indexes: https://pypi.tuna.tsinghua.edu.cn/simple\n",
      "Requirement already satisfied: langchain in c:\\czydev\\miniconda3\\envs\\langchain\\lib\\site-packages (0.2.8)\n",
      "Requirement already satisfied: PyYAML>=5.3 in c:\\czydev\\miniconda3\\envs\\langchain\\lib\\site-packages (from langchain) (6.0.1)\n",
      "Requirement already satisfied: SQLAlchemy<3,>=1.4 in c:\\czydev\\miniconda3\\envs\\langchain\\lib\\site-packages (from langchain) (2.0.31)\n",
      "Requirement already satisfied: aiohttp<4.0.0,>=3.8.3 in c:\\czydev\\miniconda3\\envs\\langchain\\lib\\site-packages (from langchain) (3.9.5)\n",
      "Requirement already satisfied: async-timeout<5.0.0,>=4.0.0 in c:\\czydev\\miniconda3\\envs\\langchain\\lib\\site-packages (from langchain) (4.0.3)\n",
      "Requirement already satisfied: langchain-core<0.3.0,>=0.2.19 in c:\\czydev\\miniconda3\\envs\\langchain\\lib\\site-packages (from langchain) (0.2.19)\n",
      "Requirement already satisfied: langchain-text-splitters<0.3.0,>=0.2.0 in c:\\czydev\\miniconda3\\envs\\langchain\\lib\\site-packages (from langchain) (0.2.0)\n",
      "Requirement already satisfied: langsmith<0.2.0,>=0.1.17 in c:\\czydev\\miniconda3\\envs\\langchain\\lib\\site-packages (from langchain) (0.1.86)\n",
      "Requirement already satisfied: numpy<2,>=1 in c:\\czydev\\miniconda3\\envs\\langchain\\lib\\site-packages (from langchain) (1.26.4)\n",
      "Requirement already satisfied: pydantic<3,>=1 in c:\\czydev\\miniconda3\\envs\\langchain\\lib\\site-packages (from langchain) (2.8.2)\n",
      "Requirement already satisfied: requests<3,>=2 in c:\\czydev\\miniconda3\\envs\\langchain\\lib\\site-packages (from langchain) (2.31.0)\n",
      "Requirement already satisfied: tenacity!=8.4.0,<9.0.0,>=8.1.0 in c:\\czydev\\miniconda3\\envs\\langchain\\lib\\site-packages (from langchain) (8.5.0)\n",
      "Requirement already satisfied: aiosignal>=1.1.2 in c:\\czydev\\miniconda3\\envs\\langchain\\lib\\site-packages (from aiohttp<4.0.0,>=3.8.3->langchain) (1.3.1)\n",
      "Requirement already satisfied: attrs>=17.3.0 in c:\\czydev\\miniconda3\\envs\\langchain\\lib\\site-packages (from aiohttp<4.0.0,>=3.8.3->langchain) (23.2.0)\n",
      "Requirement already satisfied: frozenlist>=1.1.1 in c:\\czydev\\miniconda3\\envs\\langchain\\lib\\site-packages (from aiohttp<4.0.0,>=3.8.3->langchain) (1.4.1)\n",
      "Requirement already satisfied: multidict<7.0,>=4.5 in c:\\czydev\\miniconda3\\envs\\langchain\\lib\\site-packages (from aiohttp<4.0.0,>=3.8.3->langchain) (6.0.5)\n",
      "Requirement already satisfied: yarl<2.0,>=1.0 in c:\\czydev\\miniconda3\\envs\\langchain\\lib\\site-packages (from aiohttp<4.0.0,>=3.8.3->langchain) (1.9.4)\n",
      "Requirement already satisfied: jsonpatch<2.0,>=1.33 in c:\\czydev\\miniconda3\\envs\\langchain\\lib\\site-packages (from langchain-core<0.3.0,>=0.2.19->langchain) (1.33)\n",
      "Requirement already satisfied: packaging<25,>=23.2 in c:\\czydev\\miniconda3\\envs\\langchain\\lib\\site-packages (from langchain-core<0.3.0,>=0.2.19->langchain) (24.1)\n",
      "Requirement already satisfied: orjson<4.0.0,>=3.9.14 in c:\\czydev\\miniconda3\\envs\\langchain\\lib\\site-packages (from langsmith<0.2.0,>=0.1.17->langchain) (3.10.6)\n",
      "Requirement already satisfied: annotated-types>=0.4.0 in c:\\czydev\\miniconda3\\envs\\langchain\\lib\\site-packages (from pydantic<3,>=1->langchain) (0.7.0)\n",
      "Requirement already satisfied: pydantic-core==2.20.1 in c:\\czydev\\miniconda3\\envs\\langchain\\lib\\site-packages (from pydantic<3,>=1->langchain) (2.20.1)\n",
      "Requirement already satisfied: typing-extensions>=4.6.1 in c:\\czydev\\miniconda3\\envs\\langchain\\lib\\site-packages (from pydantic<3,>=1->langchain) (4.12.2)\n",
      "Requirement already satisfied: charset-normalizer<4,>=2 in c:\\czydev\\miniconda3\\envs\\langchain\\lib\\site-packages (from requests<3,>=2->langchain) (3.3.2)\n",
      "Requirement already satisfied: idna<4,>=2.5 in c:\\czydev\\miniconda3\\envs\\langchain\\lib\\site-packages (from requests<3,>=2->langchain) (3.7)\n",
      "Requirement already satisfied: urllib3<3,>=1.21.1 in c:\\czydev\\miniconda3\\envs\\langchain\\lib\\site-packages (from requests<3,>=2->langchain) (2.2.2)\n",
      "Requirement already satisfied: certifi>=2017.4.17 in c:\\czydev\\miniconda3\\envs\\langchain\\lib\\site-packages (from requests<3,>=2->langchain) (2024.2.2)\n",
      "Requirement already satisfied: greenlet!=0.4.17 in c:\\czydev\\miniconda3\\envs\\langchain\\lib\\site-packages (from SQLAlchemy<3,>=1.4->langchain) (3.0.3)\n",
      "Requirement already satisfied: jsonpointer>=1.9 in c:\\czydev\\miniconda3\\envs\\langchain\\lib\\site-packages (from jsonpatch<2.0,>=1.33->langchain-core<0.3.0,>=0.2.19->langchain) (3.0.0)\n"
     ]
    }
   ],
   "execution_count": 298
  },
  {
   "cell_type": "markdown",
   "id": "c81a7df0-26c7-4eb8-92f1-cc54445cf507",
   "metadata": {},
   "source": [
    "## LLMChain\n",
    "\n",
    "LLMChain 是 LangChain 中最简单的链，作为其他复杂 Chains 和 Agents 的内部调用，被广泛应用。\n",
    "\n",
    "一个LLMChain由PromptTemplate和语言模型（LLM or Chat Model）组成。它使用直接传入（或 memory 提供）的 key-value 来规范化生成 Prompt Template（提示模板），并将生成的 prompt （格式化后的字符串）传递给大模型，并返回大模型输出。\n",
    "\n",
    "![](../images/llm_chain.png)"
   ]
  },
  {
   "cell_type": "markdown",
   "id": "4fbd5ca7-ca54-4701-919c-2857266caefc",
   "metadata": {},
   "source": [
    "## Router Chain: 实现条件判断的大模型调用\n",
    "\n",
    "\n",
    "这段代码构建了一个可定制的链路系统，用户可以提供不同的输入提示，并根据这些提示获取适当的响应。\n",
    "\n",
    "主要逻辑：从`prompt_infos`创建多个`LLMChain`对象，并将它们保存在一个字典中，然后创建一个默认的`ConversationChain`，最后创建一个带有路由功能的`MultiPromptChain`。\n",
    "\n",
    "![](../images/router_chain.png)"
   ]
  },
  {
   "cell_type": "code",
   "id": "aaf8c391-9225-4e66-ad4d-d689b53a0379",
   "metadata": {
    "ExecuteTime": {
     "end_time": "2024-07-17T02:22:37.362143Z",
     "start_time": "2024-07-17T02:22:37.346135Z"
    }
   },
   "source": [
    "from langchain.chains.router import MultiPromptChain\n",
    "from langchain_openai import OpenAI\n",
    "from langchain.chains import ConversationChain\n",
    "from langchain.chains.llm import LLMChain\n",
    "from langchain.prompts import PromptTemplate"
   ],
   "outputs": [],
   "execution_count": 366
  },
  {
   "cell_type": "code",
   "id": "33b5061c-391e-4762-91c7-73b57f4ab501",
   "metadata": {
    "ExecuteTime": {
     "end_time": "2024-07-17T02:32:01.471294Z",
     "start_time": "2024-07-17T02:32:01.462784Z"
    }
   },
   "source": [
    "physics_template = \"\"\"你是一位非常聪明的物理教授。\n",
    "你擅长以简洁易懂的方式回答关于物理的问题。\n",
    "当你不知道某个问题的答案时，你会坦诚承认。\n",
    "\n",
    "这是一个问题：\n",
    "{input}\"\"\"\n",
    "\n",
    "\n",
    "math_template = \"\"\"你是一位很棒的数学家。你擅长回答数学问题。\n",
    "之所以如此出色，是因为你能够将难题分解成各个组成部分，\n",
    "先回答这些组成部分，然后再将它们整合起来回答更广泛的问题。\n",
    "\n",
    "这是一个问题：\n",
    "{input}\"\"\"\n",
    "\n",
    "biology_template = \"\"\"你是一位知识渊博的生物教师。\n",
    "你擅长以清晰、简洁的方式回答关于生物学的问题。\n",
    "当你不知道某个问题的答案时，你会坦诚承认。\n",
    "\n",
    "这是一个问题：\n",
    "{input}\"\"\"\n",
    "\n",
    "computer_science_template = \"\"\"你是一位优秀的计算机科学家。\n",
    "你擅长解答计算机科学和编程相关的问题。\n",
    "你的解答总是逻辑清晰，易于理解。\n",
    "\n",
    "这是一个问题：\n",
    "{input}\"\"\"\n",
    "\n",
    "chinese_literature_template = \"\"\"你是一位卓有成效的汉语言文学教师。\n",
    "你擅长解答关于汉语言文学的问题，无论是古代文学还是现代文学。\n",
    "你的解答总是富有洞见，引人深思。\n",
    "\n",
    "这是一个问题：\n",
    "{input}\"\"\"\n"
   ],
   "outputs": [],
   "execution_count": 401
  },
  {
   "cell_type": "code",
   "id": "5ef1db6e-3da4-4f9b-9707-0f30aa293dd7",
   "metadata": {
    "ExecuteTime": {
     "end_time": "2024-07-17T02:32:01.876568Z",
     "start_time": "2024-07-17T02:32:01.866054Z"
    }
   },
   "source": [
    "prompt_infos = [\n",
    "    {\n",
    "        \"name\": \"物理\",\n",
    "        \"description\": \"适用于回答物理问题\",\n",
    "        \"prompt_template\": physics_template,\n",
    "    },\n",
    "    {\n",
    "        \"name\": \"数学\",\n",
    "        \"description\": \"适用于回答数学问题\",\n",
    "        \"prompt_template\": math_template,\n",
    "    },\n",
    "    {\n",
    "        \"name\": \"生物\",\n",
    "        \"description\": \"适用于回答生物学问题\",\n",
    "        \"prompt_template\": biology_template,\n",
    "    },\n",
    "    {\n",
    "        \"name\": \"计算机科学\",\n",
    "        \"description\": \"适用于回答计算机科学和编程相关的问题\",\n",
    "        \"prompt_template\": computer_science_template,\n",
    "    },\n",
    "    {\n",
    "        \"name\": \"汉语言文学\",\n",
    "        \"description\": \"适用于回答关于汉语言文学的问题\",\n",
    "        \"prompt_template\": chinese_literature_template,\n",
    "    },\n",
    "]"
   ],
   "outputs": [],
   "execution_count": 402
  },
  {
   "cell_type": "code",
   "id": "3983cafe-c2d5-4951-b779-88d844594777",
   "metadata": {
    "ExecuteTime": {
     "end_time": "2024-07-17T02:32:02.729985Z",
     "start_time": "2024-07-17T02:32:02.285955Z"
    }
   },
   "source": [
    "import os\n",
    "\n",
    "api_key = os.getenv('OPENAI_API_KEY')\n",
    "llm = OpenAI(model_name=\"gpt-3.5-turbo-instruct\",\n",
    "\n",
    "             )"
   ],
   "outputs": [],
   "execution_count": 403
  },
  {
   "cell_type": "code",
   "id": "db8be9f0-1ac2-4ded-8950-6403cfa40004",
   "metadata": {
    "ExecuteTime": {
     "end_time": "2024-07-17T02:32:03.799930Z",
     "start_time": "2024-07-17T02:32:03.793913Z"
    }
   },
   "source": [
    "# 创建一个空的目标链字典，用于存放根据prompt_infos生成的LLMChain。\n",
    "destination_chains = {}\n",
    "\n",
    "# 遍历prompt_infos列表，为每个信息创建一个LLMChain。\n",
    "for p_info in prompt_infos:\n",
    "    name = p_info[\"name\"]  # 提取名称\n",
    "    prompt_template = p_info[\"prompt_template\"]  # 提取模板\n",
    "    # 创建PromptTemplate对象\n",
    "    prompt = PromptTemplate(template=prompt_template, input_variables=[\"input\"])\n",
    "    # 使用上述模板和llm对象创建LLMChain对象\n",
    "    chain = LLMChain(llm=llm, prompt=prompt)\n",
    "    # 将新创建的chain对象添加到destination_chains字典中\n",
    "    destination_chains[name] = chain\n",
    "\n",
    "# 创建一个默认的ConversationChain\n",
    "default_chain = ConversationChain(llm=llm, output_key=\"text\")"
   ],
   "outputs": [],
   "execution_count": 404
  },
  {
   "cell_type": "code",
   "id": "ae77b13a-2077-4e80-83f9-a2b1d8398461",
   "metadata": {
    "ExecuteTime": {
     "end_time": "2024-07-17T02:32:04.827699Z",
     "start_time": "2024-07-17T02:32:04.818692Z"
    }
   },
   "source": [
    "type(default_chain)"
   ],
   "outputs": [
    {
     "data": {
      "text/plain": [
       "langchain.chains.conversation.base.ConversationChain"
      ]
     },
     "execution_count": 405,
     "metadata": {},
     "output_type": "execute_result"
    }
   ],
   "execution_count": 405
  },
  {
   "cell_type": "markdown",
   "id": "f5aa4a82-2d96-4124-8896-4e11e5d5c8e9",
   "metadata": {},
   "source": [
    "### 使用 LLMRouterChain 实现条件判断调用\n",
    "\n",
    "这段代码定义了一个chain对象（LLMRouterChain），该对象首先使用router_chain来决定哪个destination_chain应该被执行，如果没有合适的目标链，则默认使用default_chain。"
   ]
  },
  {
   "cell_type": "code",
   "id": "1c196e6c-e767-4d4f-8327-50ead641bc3a",
   "metadata": {
    "ExecuteTime": {
     "end_time": "2024-07-17T02:32:05.791039Z",
     "start_time": "2024-07-17T02:32:05.773525Z"
    }
   },
   "source": [
    "from langchain.chains.router.llm_router import LLMRouterChain, RouterOutputParser\n",
    "from langchain.chains.router.multi_prompt_prompt import MULTI_PROMPT_ROUTER_TEMPLATE"
   ],
   "outputs": [],
   "execution_count": 406
  },
  {
   "cell_type": "code",
   "id": "f5ada86e-e430-412c-828d-b053b630f07c",
   "metadata": {
    "ExecuteTime": {
     "end_time": "2024-07-17T02:32:06.334870Z",
     "start_time": "2024-07-17T02:32:06.317843Z"
    }
   },
   "source": [
    "# 从prompt_infos中提取目标信息并将其转化为字符串列表\n",
    "destinations = [f\"{p['name']}: {p['description']}\" for p in prompt_infos]\n",
    "# 使用join方法将列表转化为字符串，每个元素之间用换行符分隔\n",
    "destinations_str = \"\\n\".join(destinations)\n",
    "# 根据MULTI_PROMPT_ROUTER_TEMPLATE格式化字符串和destinations_str创建路由模板\n",
    "router_template = MULTI_PROMPT_ROUTER_TEMPLATE.format(destinations=destinations_str)\n",
    "# 创建路由的PromptTemplate\n",
    "router_prompt = PromptTemplate(\n",
    "    template=router_template,\n",
    "    input_variables=[\"input\"],\n",
    "    output_parser=RouterOutputParser(),\n",
    ")\n",
    "# 使用上述路由模板和llm对象创建LLMRouterChain对象\n",
    "router_chain = LLMRouterChain.from_llm(llm, router_prompt)"
   ],
   "outputs": [],
   "execution_count": 407
  },
  {
   "cell_type": "code",
   "id": "8c1013dc-ae1f-468d-96b3-4babe0d50d1f",
   "metadata": {
    "ExecuteTime": {
     "end_time": "2024-07-17T02:32:10.184573Z",
     "start_time": "2024-07-17T02:32:10.176379Z"
    }
   },
   "source": [
    "print(destinations)"
   ],
   "outputs": [
    {
     "name": "stdout",
     "output_type": "stream",
     "text": [
      "['物理: 适用于回答物理问题', '数学: 适用于回答数学问题', '生物: 适用于回答生物学问题', '计算机科学: 适用于回答计算机科学和编程相关的问题', '汉语言文学: 适用于回答关于汉语言文学的问题']\n"
     ]
    }
   ],
   "execution_count": 408
  },
  {
   "cell_type": "code",
   "id": "a85ef126-aca1-40c2-8e01-d15af5500785",
   "metadata": {
    "ExecuteTime": {
     "end_time": "2024-07-17T02:32:13.235857Z",
     "start_time": "2024-07-17T02:32:13.229832Z"
    }
   },
   "source": [
    "print(destinations_str)"
   ],
   "outputs": [
    {
     "name": "stdout",
     "output_type": "stream",
     "text": [
      "物理: 适用于回答物理问题\n",
      "数学: 适用于回答数学问题\n",
      "生物: 适用于回答生物学问题\n",
      "计算机科学: 适用于回答计算机科学和编程相关的问题\n",
      "汉语言文学: 适用于回答关于汉语言文学的问题\n"
     ]
    }
   ],
   "execution_count": 409
  },
  {
   "cell_type": "code",
   "id": "5db81fcb-704a-4250-a6b5-210e4be77af5",
   "metadata": {
    "ExecuteTime": {
     "end_time": "2024-07-17T02:32:15.408518Z",
     "start_time": "2024-07-17T02:32:15.391485Z"
    }
   },
   "source": [
    "print(MULTI_PROMPT_ROUTER_TEMPLATE)"
   ],
   "outputs": [
    {
     "name": "stdout",
     "output_type": "stream",
     "text": [
      "Given a raw text input to a language model select the model prompt best suited for the input. You will be given the names of the available prompts and a description of what the prompt is best suited for. You may also revise the original input if you think that revising it will ultimately lead to a better response from the language model.\n",
      "\n",
      "<< FORMATTING >>\n",
      "Return a markdown code snippet with a JSON object formatted to look like:\n",
      "```json\n",
      "{{{{\n",
      "    \"destination\": string \\ name of the prompt to use or \"DEFAULT\"\n",
      "    \"next_inputs\": string \\ a potentially modified version of the original input\n",
      "}}}}\n",
      "```\n",
      "\n",
      "REMEMBER: \"destination\" MUST be one of the candidate prompt names specified below OR it can be \"DEFAULT\" if the input is not well suited for any of the candidate prompts.\n",
      "REMEMBER: \"next_inputs\" can just be the original input if you don't think any modifications are needed.\n",
      "\n",
      "<< CANDIDATE PROMPTS >>\n",
      "{destinations}\n",
      "\n",
      "<< INPUT >>\n",
      "{{input}}\n",
      "\n",
      "<< OUTPUT (must include ```json at the start of the response) >>\n",
      "<< OUTPUT (must end with ```) >>\n",
      "\n"
     ]
    }
   ],
   "execution_count": 410
  },
  {
   "cell_type": "code",
   "id": "f882244c-1fa6-4d74-a44c-578c9fb25e18",
   "metadata": {
    "ExecuteTime": {
     "end_time": "2024-07-17T02:32:16.808440Z",
     "start_time": "2024-07-17T02:32:16.799441Z"
    }
   },
   "source": [
    "print(router_template)"
   ],
   "outputs": [
    {
     "name": "stdout",
     "output_type": "stream",
     "text": [
      "Given a raw text input to a language model select the model prompt best suited for the input. You will be given the names of the available prompts and a description of what the prompt is best suited for. You may also revise the original input if you think that revising it will ultimately lead to a better response from the language model.\n",
      "\n",
      "<< FORMATTING >>\n",
      "Return a markdown code snippet with a JSON object formatted to look like:\n",
      "```json\n",
      "{{\n",
      "    \"destination\": string \\ name of the prompt to use or \"DEFAULT\"\n",
      "    \"next_inputs\": string \\ a potentially modified version of the original input\n",
      "}}\n",
      "```\n",
      "\n",
      "REMEMBER: \"destination\" MUST be one of the candidate prompt names specified below OR it can be \"DEFAULT\" if the input is not well suited for any of the candidate prompts.\n",
      "REMEMBER: \"next_inputs\" can just be the original input if you don't think any modifications are needed.\n",
      "\n",
      "<< CANDIDATE PROMPTS >>\n",
      "物理: 适用于回答物理问题\n",
      "数学: 适用于回答数学问题\n",
      "生物: 适用于回答生物学问题\n",
      "计算机科学: 适用于回答计算机科学和编程相关的问题\n",
      "汉语言文学: 适用于回答关于汉语言文学的问题\n",
      "\n",
      "<< INPUT >>\n",
      "{input}\n",
      "\n",
      "<< OUTPUT (must include ```json at the start of the response) >>\n",
      "<< OUTPUT (must end with ```) >>\n",
      "\n"
     ]
    }
   ],
   "execution_count": 411
  },
  {
   "cell_type": "code",
   "id": "c2a482e4-5757-4295-a3d8-c3fdd1d4abd2",
   "metadata": {
    "ExecuteTime": {
     "end_time": "2024-07-17T02:32:17.934289Z",
     "start_time": "2024-07-17T02:32:17.921183Z"
    }
   },
   "source": [
    "# 创建MultiPromptChain对象，其中包含了路由链，目标链和默认链。\n",
    "chain = MultiPromptChain(\n",
    "    router_chain=router_chain,\n",
    "    destination_chains=destination_chains,\n",
    "    default_chain=default_chain,\n",
    "    verbose=True,\n",
    ")"
   ],
   "outputs": [],
   "execution_count": 412
  },
  {
   "cell_type": "code",
   "id": "128bb7a0-b176-4b14-835e-8aaa723ab441",
   "metadata": {
    "ExecuteTime": {
     "end_time": "2024-07-17T02:32:21.969646Z",
     "start_time": "2024-07-17T02:32:18.725819Z"
    }
   },
   "source": "print(chain.invoke(\"黑体辐射是什么？?\"))\n",
   "outputs": [
    {
     "name": "stdout",
     "output_type": "stream",
     "text": [
      "\n",
      "\n",
      "\u001B[1m> Entering new MultiPromptChain chain...\u001B[0m\n",
      "物理: {'input': '黑体辐射是什么？?'}\n",
      "\u001B[1m> Finished chain.\u001B[0m\n",
      "{'input': '黑体辐射是什么？?', 'text': '\\n\\n黑体辐射是指一种理想的物体，它可以完全吸收所有入射的辐射能量，并以各种波长的光线以及其他形式的辐射能量重新辐射出去。它是热力学中的一个概念，用于描述物体在各种温度下发出的辐射能量的分布。'}\n"
     ]
    }
   ],
   "execution_count": 413
  },
  {
   "metadata": {
    "ExecuteTime": {
     "end_time": "2024-07-17T02:32:21.985053Z",
     "start_time": "2024-07-17T02:32:21.970592Z"
    }
   },
   "cell_type": "code",
   "source": "",
   "id": "6df5ce741d1b92d0",
   "outputs": [],
   "execution_count": 413
  },
  {
   "cell_type": "code",
   "id": "cd869807-9cec-4bb2-9104-ecc4efce9baa",
   "metadata": {
    "ExecuteTime": {
     "end_time": "2024-07-17T02:32:27.470383Z",
     "start_time": "2024-07-17T02:32:24.812593Z"
    }
   },
   "source": [
    "print(\n",
    "    chain.invoke(\n",
    "        \"大于40的第一个质数是多少，使得这个质数加一能被3整除？\"\n",
    "    )\n",
    ")"
   ],
   "outputs": [
    {
     "name": "stdout",
     "output_type": "stream",
     "text": [
      "\n",
      "\n",
      "\u001B[1m> Entering new MultiPromptChain chain...\u001B[0m\n",
      "数学: {'input': '大于40的第一个质数是多少，使得这个质数加一能被3整除？'}\n",
      "\u001B[1m> Finished chain.\u001B[0m\n",
      "{'input': '大于40的第一个质数是多少，使得这个质数加一能被3整除？', 'text': '\\n\\n首先，我们要确定大于40的质数。质数是只能被1和自身整除的数，\\n所以我们可以从41开始逐个判断是否为质数。\\n41不被任何小于它的数整除，所以它是质数。\\n接下来，我们需要找到一个质数加一后能被3整除的数。\\n我们可以列举一些质数和它们加一后的数：2+1=3, 5+1=6, 7+1=8, 11+1=12。\\n我们可以发现，只有6和12能被3整除。所以答案是41+1=42。\\n42是大于40的第一个质数，且42+1=43能被3整除。'}\n"
     ]
    }
   ],
   "execution_count": 414
  },
  {
   "cell_type": "code",
   "id": "7ad5dcb2-48c0-4d0f-b6cc-09ebcbdce75e",
   "metadata": {
    "ExecuteTime": {
     "end_time": "2024-07-17T02:32:32.750362Z",
     "start_time": "2024-07-17T02:32:32.742341Z"
    }
   },
   "source": [
    "router_chain.verbose = True"
   ],
   "outputs": [],
   "execution_count": 415
  },
  {
   "cell_type": "code",
   "id": "bd37e004-bb24-4929-992c-34407593d86e",
   "metadata": {
    "ExecuteTime": {
     "end_time": "2024-07-17T02:32:36.077981Z",
     "start_time": "2024-07-17T02:32:33.321768Z"
    }
   },
   "source": [
    "print(chain.invoke(\"黑洞是什么？\"))"
   ],
   "outputs": [
    {
     "name": "stdout",
     "output_type": "stream",
     "text": [
      "\n",
      "\n",
      "\u001B[1m> Entering new MultiPromptChain chain...\u001B[0m\n",
      "\n",
      "\n",
      "\u001B[1m> Entering new LLMRouterChain chain...\u001B[0m\n",
      "\n",
      "\u001B[1m> Finished chain.\u001B[0m\n",
      "物理: {'input': '黑洞是什么？'}\n",
      "\u001B[1m> Finished chain.\u001B[0m\n",
      "{'input': '黑洞是什么？', 'text': '\\n\\n黑洞是一种天体，它具有非常强大的引力，甚至连光也无法逃脱。它是由大量物质被挤压在极小的空间内形成的，因此具有非常高的密度。黑洞的边界被称为事件视界，它是一种虚拟的表面，从这个表面向内部的任何物质都无法逃脱。目前科学家们还在研究黑洞的性质和行为，但它们在宇宙中扮演着重要的角色，影响着星系和宇宙的演化。'}\n"
     ]
    }
   ],
   "execution_count": 416
  },
  {
   "cell_type": "code",
   "id": "a51119ed-025f-48d7-ad81-cd9cdab7090f",
   "metadata": {
    "ExecuteTime": {
     "end_time": "2024-07-17T02:33:36.781617Z",
     "start_time": "2024-07-17T02:33:33.844522Z"
    }
   },
   "source": "print(chain.invoke(\"DNA是什么？\"))",
   "outputs": [
    {
     "name": "stdout",
     "output_type": "stream",
     "text": [
      "\n",
      "\n",
      "\u001B[1m> Entering new MultiPromptChain chain...\u001B[0m\n",
      "\n",
      "\n",
      "\u001B[1m> Entering new LLMRouterChain chain...\u001B[0m\n",
      "\n",
      "\u001B[1m> Finished chain.\u001B[0m\n",
      "生物: {'input': 'DNA是什么？'}\n",
      "\u001B[1m> Finished chain.\u001B[0m\n",
      "{'input': 'DNA是什么？', 'text': '\\n\\nDNA是脱氧核糖核酸的缩写，是一种存在于细胞核和线粒体中的生物分子。它是生物体遗传信息的载体，通过它，生物体的遗传特征可以传递给后代。DNA由四种碱基（腺嘌呤、鸟嘌呤、胸腺嘧啶和鳞腺嘧啶）构成的长链状分子，在细胞的复制和分裂过程中起着重要的作用。'}\n"
     ]
    }
   ],
   "execution_count": 417
  },
  {
   "cell_type": "code",
   "execution_count": null,
   "id": "cbda2930-a0e6-48b2-8e02-4c3d792f0225",
   "metadata": {},
   "outputs": [],
   "source": []
  },
  {
   "metadata": {
    "ExecuteTime": {
     "end_time": "2024-07-17T02:34:46.962118Z",
     "start_time": "2024-07-17T02:34:43.659431Z"
    }
   },
   "cell_type": "code",
   "source": "print(chain.invoke(\"快速排序算法Java实现？\"))",
   "id": "50b76ff2f0bef468",
   "outputs": [
    {
     "name": "stdout",
     "output_type": "stream",
     "text": [
      "\n",
      "\n",
      "\u001B[1m> Entering new MultiPromptChain chain...\u001B[0m\n",
      "\n",
      "\n",
      "\u001B[1m> Entering new LLMRouterChain chain...\u001B[0m\n",
      "\n",
      "\u001B[1m> Finished chain.\u001B[0m\n",
      "计算机科学: {'input': '快速排序算法Java实现？'}\n",
      "\u001B[1m> Finished chain.\u001B[0m\n",
      "{'input': '快速排序算法Java实现？', 'text': '\\n\\n快速排序是一种常用的排序算法，它的实现原理是利用分治的思想，将一个大的问题分解成多个小的子问题来解决。下面是使用Java语言实现快速排序的示例代码：\\n\\n// 快速排序函数，输入参数为待排序数组、起始位置和结束位置\\npublic static void quickSort(int[] arr, int start, int end){\\n    // 如果起始位置大于或等于结束位置，则说明已经排序完成\\n    if (start >= end) {\\n        return;\\n    }\\n    // 以数组中间的元素作为基准值\\n    int pivot = arr[(start + end) / 2];\\n    // 定义左指针和右指针\\n    int left = start;\\n    int right = end;\\n    // 循环将数组中小于基准值的元素放在左边，大于基准值的元素放在右边\\n    while (left <= right) {\\n        // 在左边找到第一个大于基'}\n"
     ]
    }
   ],
   "execution_count": 420
  },
  {
   "cell_type": "code",
   "id": "24d11e0f-d5ee-4086-9e1a-b21000232134",
   "metadata": {
    "ExecuteTime": {
     "end_time": "2024-07-17T02:34:16.649706Z",
     "start_time": "2024-07-17T02:34:14.264285Z"
    }
   },
   "source": "print(chain.invoke(\"出师表起源\"))",
   "outputs": [
    {
     "name": "stdout",
     "output_type": "stream",
     "text": [
      "\n",
      "\n",
      "\u001B[1m> Entering new MultiPromptChain chain...\u001B[0m\n",
      "\n",
      "\n",
      "\u001B[1m> Entering new LLMRouterChain chain...\u001B[0m\n",
      "\n",
      "\u001B[1m> Finished chain.\u001B[0m\n",
      "汉语言文学: {'input': '出师表起源'}\n",
      "\u001B[1m> Finished chain.\u001B[0m\n",
      "{'input': '出师表起源', 'text': '于哪个历史时期？\\n\\n出师表起源于三国时期。它是一篇由诸葛亮所作的文学作品，用于向刘备说明出兵北伐的重要性和必要性。这篇文学作品同时也展现了诸葛亮的治国思想和智慧，被后人称为“奇文”。'}\n"
     ]
    }
   ],
   "execution_count": 419
  },
  {
   "cell_type": "markdown",
   "id": "8b6836f0-213d-4cac-abc9-3617831be3db",
   "metadata": {},
   "source": [
    "### Homework\n",
    "\n",
    "#### 扩展 Demo：实现生物、计算机和汉语言文学老师 PromptTemplates 及对应 Chains"
   ]
  },
  {
   "cell_type": "code",
   "execution_count": null,
   "id": "1c7edb0a-675d-40c0-9f5d-d58f0170ce72",
   "metadata": {},
   "outputs": [],
   "source": []
  }
 ],
 "metadata": {
  "kernelspec": {
   "display_name": "Python 3 (ipykernel)",
   "language": "python",
   "name": "python3"
  },
  "language_info": {
   "codemirror_mode": {
    "name": "ipython",
    "version": 3
   },
   "file_extension": ".py",
   "mimetype": "text/x-python",
   "name": "python",
   "nbconvert_exporter": "python",
   "pygments_lexer": "ipython3",
   "version": "3.10.14"
  }
 },
 "nbformat": 4,
 "nbformat_minor": 5
}
